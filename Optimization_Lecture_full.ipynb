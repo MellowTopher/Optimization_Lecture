{
 "cells": [
  {
   "cell_type": "markdown",
   "metadata": {
    "id": "CfIMaqTbOC7c"
   },
   "source": [
    "# ***Optimization #1: Linear Programming***\n",
    "\n",
    "In this example, we solve a linear programming problem using `minimize` to minimize a cost function, which is defined based on equipment load ratios. The objective function represents the cost as a function of these load ratios, aiming to reduce operating costs while adhering to constraints.\n",
    "\n",
    "Key Points:\n",
    "* Objective Function: This function calculates the total cost based on load ratios.\n",
    "* Constraints: We set an equality constraint to balance the total load and multiple inequality constraints to ensure load ratios stay within a range.\n",
    "* Method: We use `trust-constr`, which is a reliable method for constrained optimization. Further details are provided [here](https://docs.scipy.org/doc/scipy/tutorial/optimize.html#optimization-scipy-optimize) and [here](https://docs.scipy.org/doc/scipy/reference/generated/scipy.optimize.minimize.html):\n"
   ]
  },
  {
   "cell_type": "code",
   "execution_count": 16,
   "metadata": {
    "colab": {
     "base_uri": "https://localhost:8080/"
    },
    "id": "dvKfaGSC-v3z",
    "outputId": "02cee641-3602-4363-a1ca-a168b26a057e"
   },
   "outputs": [
    {
     "name": "stdout",
     "output_type": "stream",
     "text": [
      "Optimized x: [0.71 0.95]\n"
     ]
    },
    {
     "name": "stderr",
     "output_type": "stream",
     "text": [
      "/usr/local/lib/python3.10/dist-packages/scipy/optimize/_differentiable_functions.py:504: UserWarning: delta_grad == 0.0. Check if the approximated function is linear. If the function is linear better results can be obtained by defining the Hessian as zero instead of using quasi-Newton approximations.\n",
      "  self.H.update(delta_x, delta_g)\n"
     ]
    }
   ],
   "source": [
    "import numpy as np\n",
    "from scipy.optimize import minimize\n",
    "\n",
    "\n",
    "# Define cost function: Linear Objective Function for optimization\n",
    "def fun(x):\n",
    "    return (x[0] * 3 / (4.4 - 6 * (1 - x[0]))) + (x[1] * 3 / (5.8 - 12 * (1 - x[1])))\n",
    "\n",
    "\n",
    "# Equality constraint\n",
    "Aeq = np.array([3, 3])\n",
    "beq = 5\n",
    "\n",
    "\n",
    "def eq_constraint(x):\n",
    "    return np.dot(Aeq, x) - beq\n",
    "\n",
    "\n",
    "# Inequality constraints\n",
    "A = np.array([[1, 0], [0, 1], [-1, 0], [0, -1]])\n",
    "b = np.array([1, 1, 0, 0])\n",
    "ineq_constraints = [\n",
    "    {\"type\": \"ineq\", \"fun\": lambda x, i=i: b[i] - np.dot(A[i], x)}\n",
    "    for i in range(len(b))\n",
    "]\n",
    "\n",
    "# Initial guess\n",
    "x0 = [0, 0]\n",
    "\n",
    "# Optimized decision with trust-constr method and tighter tolerance\n",
    "result = minimize(\n",
    "    fun,\n",
    "    x0,\n",
    "    method=\"trust-constr\",  # \"trust-region constrained\" optimization method\n",
    "    constraints=[{\"type\": \"eq\", \"fun\": eq_constraint}] + ineq_constraints,\n",
    "    bounds=[\n",
    "        (0, 1),\n",
    "        (0, 1),\n",
    "    ],  # Redundancy for this example: both the inequality constraints and bounds essentially achieve the same result\n",
    "    options={\"xtol\": 1e-9, \"gtol\": 1e-9, \"maxiter\": 1000},\n",
    ")\n",
    "\n",
    "x_optimized = np.round(result.x, 2)\n",
    "\n",
    "print(\"Optimized x:\", x_optimized)\n"
   ]
  },
  {
   "cell_type": "code",
   "execution_count": 22,
   "metadata": {
    "colab": {
     "base_uri": "https://localhost:8080/"
    },
    "id": "ALmV7DzafwCK",
    "outputId": "a6e2471f-5093-43e0-f495-a39c8991b3f6"
   },
   "outputs": [
    {
     "data": {
      "text/plain": [
       "46"
      ]
     },
     "execution_count": 22,
     "metadata": {},
     "output_type": "execute_result"
    }
   ],
   "source": [
    "0.71 * 3\n",
    "0.95 * 3\n",
    "0.71 * 3 / (4.4 - 6 * (1 - 0.71))\n",
    "0.95 * 3 / (5.8 - 12 * (1 - 0.95))\n",
    "result.fun\n",
    "result.nit"
   ]
  },
  {
   "cell_type": "markdown",
   "metadata": {
    "id": "nwDtoGUBOOaI"
   },
   "source": [
    "# **Optimization #2: Quadratic Programming with Non-linear Objective Function**\n",
    "\n",
    "In this block, we build on the first example by using a non-linear objective function that models how efficiency changes as the load ratio varies. Non-linear programming allows for more complex relationships within the cost function, accommodating real-world variability in equipment performance.\n",
    "\n",
    "Key Points:\n",
    "\n",
    "* Objective Function: The function is quadratic in nature, representing more complex load-cost relationships.\n",
    "* Method: The same `trust-constr` method is used with strict tolerance settings for accurate results."
   ]
  },
  {
   "cell_type": "code",
   "execution_count": 2,
   "metadata": {
    "colab": {
     "base_uri": "https://localhost:8080/"
    },
    "id": "gEZk5Elu_UFS",
    "outputId": "ab321f22-0dc7-468f-dd10-bc6cfcc9c975"
   },
   "outputs": [
    {
     "name": "stdout",
     "output_type": "stream",
     "text": [
      "Optimized x: [0.79 0.88]\n"
     ]
    }
   ],
   "source": [
    "import numpy as np\n",
    "from scipy.optimize import minimize\n",
    "\n",
    "\n",
    "# Define cost function: Quadratic Objective Function for optimization\n",
    "def fun(x):\n",
    "    return (x[0] * 3 / (4.4 - 18 * (1 - x[0]) ** 2)) + (\n",
    "        x[1] * 3 / (5.8 - 48 * (1 - x[1]) ** 2)\n",
    "    )\n",
    "\n",
    "\n",
    "# Equality constraint\n",
    "Aeq = np.array([3, 3])\n",
    "beq = 5\n",
    "\n",
    "\n",
    "def eq_constraint(x):\n",
    "    return np.dot(Aeq, x) - beq\n",
    "\n",
    "\n",
    "# Inequality constraints\n",
    "A = np.array([[1, 0], [0, 1], [-1, 0], [0, -1]])\n",
    "b = np.array([1, 1, 0, 0])\n",
    "ineq_constraints = [\n",
    "    {\"type\": \"ineq\", \"fun\": lambda x, i=i: b[i] - np.dot(A[i], x)}\n",
    "    for i in range(len(b))\n",
    "]\n",
    "\n",
    "# Initial guess\n",
    "x0 = [0, 0]\n",
    "\n",
    "# Optimized decision with trust-constr method and tighter tolerance\n",
    "result = minimize(\n",
    "    fun,\n",
    "    x0,\n",
    "    method=\"trust-constr\",\n",
    "    constraints=[{\"type\": \"eq\", \"fun\": eq_constraint}] + ineq_constraints,\n",
    "    bounds=[(0, 1), (0, 1)],\n",
    "    options={\"xtol\": 1e-9, \"gtol\": 1e-9, \"maxiter\": 1000},\n",
    ")\n",
    "\n",
    "x_optimized = np.round(result.x, 2)\n",
    "\n",
    "print(\"Optimized x:\", x_optimized);\n"
   ]
  },
  {
   "cell_type": "code",
   "execution_count": null,
   "metadata": {},
   "outputs": [],
   "source": [
    "import numpy as np\n",
    "from scipy.optimize import minimize\n",
    "\n",
    "\n",
    "# Define cost function: Quadratic Objective Function for optimization\n",
    "def fun(x):\n",
    "    numerator1 = x[0] * 3\n",
    "    denominator1 = -18 * x[0] ** 2 + 36 * x[0] - 13.6\n",
    "\n",
    "    numerator2 = x[1] * 3\n",
    "    denominator2 = -48 * x[1] ** 2 + 96 * x[1] - 42.2\n",
    "\n",
    "    return (numerator1 / denominator1) + (numerator2 / denominator2)\n",
    "\n",
    "\n",
    "# Equality constraint\n",
    "Aeq = np.array([3, 3])\n",
    "beq = 5\n",
    "\n",
    "\n",
    "def eq_constraint(x):\n",
    "    return np.dot(Aeq, x) - beq\n",
    "\n",
    "\n",
    "# Inequality constraints\n",
    "A = np.array([[1, 0], [0, 1], [-1, 0], [0, -1]])\n",
    "b = np.array([1, 1, 0, 0])\n",
    "ineq_constraints = [\n",
    "    {\"type\": \"ineq\", \"fun\": lambda x, i=i: b[i] - np.dot(A[i], x)}\n",
    "    for i in range(len(b))\n",
    "]\n",
    "\n",
    "# Initial guess\n",
    "x0 = [0, 0]\n",
    "\n",
    "# Optimized decision with trust-constr method and tighter tolerance\n",
    "result = minimize(\n",
    "    fun,\n",
    "    x0,\n",
    "    method=\"trust-constr\",\n",
    "    constraints=[{\"type\": \"eq\", \"fun\": eq_constraint}] + ineq_constraints,\n",
    "    bounds=[(0, 1), (0, 1)],\n",
    "    options={\"xtol\": 1e-9, \"gtol\": 1e-9, \"maxiter\": 1000},\n",
    ")\n",
    "\n",
    "x_optimized = np.round(result.x, 2)\n",
    "\n",
    "print(\"Optimized x:\", x_optimized);\n"
   ]
  },
  {
   "cell_type": "code",
   "execution_count": 23,
   "metadata": {
    "colab": {
     "base_uri": "https://localhost:8080/"
    },
    "id": "FogiKTHgjCND",
    "outputId": "19e96359-0c0a-47ff-9243-aad497a55a1e"
   },
   "outputs": [
    {
     "data": {
      "text/plain": [
       "46"
      ]
     },
     "execution_count": 23,
     "metadata": {},
     "output_type": "execute_result"
    }
   ],
   "source": [
    "# similar cost function and iterations\n",
    "result.fun\n",
    "result.nit"
   ]
  },
  {
   "cell_type": "markdown",
   "metadata": {
    "id": "qxGXL4XAONEt"
   },
   "source": [
    "# **Optimization #3: Non-Linear Programming with Exponential Efficiency Model**\n",
    "\n",
    "In this code block, we model an exponential relationship between load ratio and efficiency. This structure better represents systems where efficiency declines significantly at low or high load ratios. This approach captures more realistic scenarios, especially in energy and equipment management.\n",
    "\n",
    "Key Points:\n",
    "\n",
    "* Objective Function: The exponential form reflects diminishing efficiency with extreme load ratios.\n",
    "* Non-linear Constraints: Using `trust-constr` allows handling complex, non-linear relationships between variables."
   ]
  },
  {
   "cell_type": "code",
   "execution_count": null,
   "metadata": {
    "colab": {
     "base_uri": "https://localhost:8080/"
    },
    "id": "oNnhfrjyB_XP",
    "outputId": "1250c1db-8dfe-4783-e8f9-1398e12078ac"
   },
   "outputs": [
    {
     "name": "stdout",
     "output_type": "stream",
     "text": [
      "Optimized x: [0.85 0.81]\n"
     ]
    }
   ],
   "source": [
    "import numpy as np\n",
    "\n",
    "\n",
    "# Define cost function: Exponential Objective Function for optimization\n",
    "def fun(x):\n",
    "    return x[0] * 3 / (5.4 - 3 * np.exp(-((x[0] - 0.67) / 0.25))) + x[1] * 3 / (\n",
    "        5.2 - 1.5 * np.exp(-((x[1] - 1) / 0.5))\n",
    "    )\n",
    "\n",
    "\n",
    "# Equality constraint\n",
    "Aeq = np.array([3, 3])\n",
    "beq = 5\n",
    "\n",
    "\n",
    "def eq_constraint(x):\n",
    "    return np.dot(Aeq, x) - beq\n",
    "\n",
    "\n",
    "# Inequality constraints\n",
    "A = np.array([[1, 0], [0, 1], [-1, 0], [0, -1]])\n",
    "b = np.array([1, 1, 0, 0])\n",
    "ineq_constraints = [\n",
    "    {\"type\": \"ineq\", \"fun\": lambda x, i=i: b[i] - np.dot(A[i], x)}\n",
    "    for i in range(len(b))\n",
    "]\n",
    "\n",
    "# Initial guess\n",
    "x0 = [0, 0]\n",
    "\n",
    "# Optimized decision with trust-constr method and tighter tolerance\n",
    "result = minimize(\n",
    "    fun,\n",
    "    x0,\n",
    "    method=\"trust-constr\",\n",
    "    constraints=[{\"type\": \"eq\", \"fun\": eq_constraint}] + ineq_constraints,\n",
    "    bounds=[(0, 1), (0, 1)],\n",
    "    options={\"xtol\": 1e-9, \"gtol\": 1e-9, \"maxiter\": 1000},\n",
    ")\n",
    "\n",
    "x_optimized = np.round(result.x, 2)\n",
    "\n",
    "print(\"Optimized x:\", x_optimized)"
   ]
  },
  {
   "cell_type": "markdown",
   "metadata": {
    "id": "7_wqPrNYygF9"
   },
   "source": [
    "# **Optimization #4: Metaheuristic Optimization Using Differential Evolution**\n",
    "\n",
    "This code demonstrates the Differential Evolution (DE) approach, a global optimization method well-suited for non-convex landscapes. DE explores the search space broadly and doesn’t rely on gradient information, making it suitable for highly non-linear problems.\n",
    "\n",
    "Key Points:\n",
    "\n",
    "* Differential Evolution: It’s a population-based algorithm that iteratively improves a population of candidate solutions.\n",
    "* Parameter Tuning: Adjusting mutation and recombination rates helps control exploration and convergence behavior.\n",
    "\n",
    "\n",
    "The error occurs because the `differential_evolution` function in scipy does not directly support equality constraints (constraints parameter) like `scipy.optimize.minimize` does above. To enforce the equality constraint like 3x_{1} + 3x_{2} = 5, we can approach it in the following way:\n",
    "\n",
    "**Use Penalty in the Cost Function (Soft Constraint)**\n",
    "Instead of adding a hard constraint, we incorporate a penalty in the cost_function if the constraint is violated. This will guide the optimizer towards solutions that satisfy the equality constraint:\n",
    "\n",
    "*   Penalty Term: penalty = 1e6 * abs(constraint_value) adds a large value if the constraint is violated. This encourages the optimizer to meet the equality constraint by penalizing deviations.\n",
    "*   Objective Value: The penalty is added to the objective value when the constraint is not met."
   ]
  },
  {
   "cell_type": "code",
   "execution_count": 1,
   "metadata": {
    "colab": {
     "base_uri": "https://localhost:8080/",
     "height": 106
    },
    "id": "79SunCBieKdW",
    "outputId": "761c926f-6590-4c6c-8309-5b5e7b900f79"
   },
   "outputs": [
    {
     "data": {
      "text/html": [
       "\n",
       "     <input type=\"file\" id=\"files-637835b3-7fc2-467d-84cb-ddfd0e27d2fd\" name=\"files[]\" multiple disabled\n",
       "        style=\"border:none\" />\n",
       "     <output id=\"result-637835b3-7fc2-467d-84cb-ddfd0e27d2fd\">\n",
       "      Upload widget is only available when the cell has been executed in the\n",
       "      current browser session. Please rerun this cell to enable.\n",
       "      </output>\n",
       "      <script>// Copyright 2017 Google LLC\n",
       "//\n",
       "// Licensed under the Apache License, Version 2.0 (the \"License\");\n",
       "// you may not use this file except in compliance with the License.\n",
       "// You may obtain a copy of the License at\n",
       "//\n",
       "//      http://www.apache.org/licenses/LICENSE-2.0\n",
       "//\n",
       "// Unless required by applicable law or agreed to in writing, software\n",
       "// distributed under the License is distributed on an \"AS IS\" BASIS,\n",
       "// WITHOUT WARRANTIES OR CONDITIONS OF ANY KIND, either express or implied.\n",
       "// See the License for the specific language governing permissions and\n",
       "// limitations under the License.\n",
       "\n",
       "/**\n",
       " * @fileoverview Helpers for google.colab Python module.\n",
       " */\n",
       "(function(scope) {\n",
       "function span(text, styleAttributes = {}) {\n",
       "  const element = document.createElement('span');\n",
       "  element.textContent = text;\n",
       "  for (const key of Object.keys(styleAttributes)) {\n",
       "    element.style[key] = styleAttributes[key];\n",
       "  }\n",
       "  return element;\n",
       "}\n",
       "\n",
       "// Max number of bytes which will be uploaded at a time.\n",
       "const MAX_PAYLOAD_SIZE = 100 * 1024;\n",
       "\n",
       "function _uploadFiles(inputId, outputId) {\n",
       "  const steps = uploadFilesStep(inputId, outputId);\n",
       "  const outputElement = document.getElementById(outputId);\n",
       "  // Cache steps on the outputElement to make it available for the next call\n",
       "  // to uploadFilesContinue from Python.\n",
       "  outputElement.steps = steps;\n",
       "\n",
       "  return _uploadFilesContinue(outputId);\n",
       "}\n",
       "\n",
       "// This is roughly an async generator (not supported in the browser yet),\n",
       "// where there are multiple asynchronous steps and the Python side is going\n",
       "// to poll for completion of each step.\n",
       "// This uses a Promise to block the python side on completion of each step,\n",
       "// then passes the result of the previous step as the input to the next step.\n",
       "function _uploadFilesContinue(outputId) {\n",
       "  const outputElement = document.getElementById(outputId);\n",
       "  const steps = outputElement.steps;\n",
       "\n",
       "  const next = steps.next(outputElement.lastPromiseValue);\n",
       "  return Promise.resolve(next.value.promise).then((value) => {\n",
       "    // Cache the last promise value to make it available to the next\n",
       "    // step of the generator.\n",
       "    outputElement.lastPromiseValue = value;\n",
       "    return next.value.response;\n",
       "  });\n",
       "}\n",
       "\n",
       "/**\n",
       " * Generator function which is called between each async step of the upload\n",
       " * process.\n",
       " * @param {string} inputId Element ID of the input file picker element.\n",
       " * @param {string} outputId Element ID of the output display.\n",
       " * @return {!Iterable<!Object>} Iterable of next steps.\n",
       " */\n",
       "function* uploadFilesStep(inputId, outputId) {\n",
       "  const inputElement = document.getElementById(inputId);\n",
       "  inputElement.disabled = false;\n",
       "\n",
       "  const outputElement = document.getElementById(outputId);\n",
       "  outputElement.innerHTML = '';\n",
       "\n",
       "  const pickedPromise = new Promise((resolve) => {\n",
       "    inputElement.addEventListener('change', (e) => {\n",
       "      resolve(e.target.files);\n",
       "    });\n",
       "  });\n",
       "\n",
       "  const cancel = document.createElement('button');\n",
       "  inputElement.parentElement.appendChild(cancel);\n",
       "  cancel.textContent = 'Cancel upload';\n",
       "  const cancelPromise = new Promise((resolve) => {\n",
       "    cancel.onclick = () => {\n",
       "      resolve(null);\n",
       "    };\n",
       "  });\n",
       "\n",
       "  // Wait for the user to pick the files.\n",
       "  const files = yield {\n",
       "    promise: Promise.race([pickedPromise, cancelPromise]),\n",
       "    response: {\n",
       "      action: 'starting',\n",
       "    }\n",
       "  };\n",
       "\n",
       "  cancel.remove();\n",
       "\n",
       "  // Disable the input element since further picks are not allowed.\n",
       "  inputElement.disabled = true;\n",
       "\n",
       "  if (!files) {\n",
       "    return {\n",
       "      response: {\n",
       "        action: 'complete',\n",
       "      }\n",
       "    };\n",
       "  }\n",
       "\n",
       "  for (const file of files) {\n",
       "    const li = document.createElement('li');\n",
       "    li.append(span(file.name, {fontWeight: 'bold'}));\n",
       "    li.append(span(\n",
       "        `(${file.type || 'n/a'}) - ${file.size} bytes, ` +\n",
       "        `last modified: ${\n",
       "            file.lastModifiedDate ? file.lastModifiedDate.toLocaleDateString() :\n",
       "                                    'n/a'} - `));\n",
       "    const percent = span('0% done');\n",
       "    li.appendChild(percent);\n",
       "\n",
       "    outputElement.appendChild(li);\n",
       "\n",
       "    const fileDataPromise = new Promise((resolve) => {\n",
       "      const reader = new FileReader();\n",
       "      reader.onload = (e) => {\n",
       "        resolve(e.target.result);\n",
       "      };\n",
       "      reader.readAsArrayBuffer(file);\n",
       "    });\n",
       "    // Wait for the data to be ready.\n",
       "    let fileData = yield {\n",
       "      promise: fileDataPromise,\n",
       "      response: {\n",
       "        action: 'continue',\n",
       "      }\n",
       "    };\n",
       "\n",
       "    // Use a chunked sending to avoid message size limits. See b/62115660.\n",
       "    let position = 0;\n",
       "    do {\n",
       "      const length = Math.min(fileData.byteLength - position, MAX_PAYLOAD_SIZE);\n",
       "      const chunk = new Uint8Array(fileData, position, length);\n",
       "      position += length;\n",
       "\n",
       "      const base64 = btoa(String.fromCharCode.apply(null, chunk));\n",
       "      yield {\n",
       "        response: {\n",
       "          action: 'append',\n",
       "          file: file.name,\n",
       "          data: base64,\n",
       "        },\n",
       "      };\n",
       "\n",
       "      let percentDone = fileData.byteLength === 0 ?\n",
       "          100 :\n",
       "          Math.round((position / fileData.byteLength) * 100);\n",
       "      percent.textContent = `${percentDone}% done`;\n",
       "\n",
       "    } while (position < fileData.byteLength);\n",
       "  }\n",
       "\n",
       "  // All done.\n",
       "  yield {\n",
       "    response: {\n",
       "      action: 'complete',\n",
       "    }\n",
       "  };\n",
       "}\n",
       "\n",
       "scope.google = scope.google || {};\n",
       "scope.google.colab = scope.google.colab || {};\n",
       "scope.google.colab._files = {\n",
       "  _uploadFiles,\n",
       "  _uploadFilesContinue,\n",
       "};\n",
       "})(self);\n",
       "</script> "
      ],
      "text/plain": [
       "<IPython.core.display.HTML object>"
      ]
     },
     "metadata": {},
     "output_type": "display_data"
    },
    {
     "name": "stdout",
     "output_type": "stream",
     "text": [
      "Saving net_ch1_simple.mat to net_ch1_simple.mat\n",
      "Saving net_ch2_simple.mat to net_ch2_simple.mat\n"
     ]
    }
   ],
   "source": [
    "# upload the networks files produced by Matlab.\n",
    "\n",
    "from google.colab import files\n",
    "\n",
    "uploaded = files.upload()"
   ]
  },
  {
   "cell_type": "code",
   "execution_count": 30,
   "metadata": {
    "colab": {
     "base_uri": "https://localhost:8080/"
    },
    "id": "piTj_ROaRKP8",
    "outputId": "041946ee-85b8-4489-fb19-a1989d5ca002"
   },
   "outputs": [
    {
     "data": {
      "text/plain": [
       "{'__header__': b'MATLAB 5.0 MAT-file, Platform: PCWIN64, Created on: Thu Nov  7 16:07:49 2024',\n",
       " '__version__': '1.0',\n",
       " '__globals__': [],\n",
       " 'IW_ch1': array([[array([[-2.19391585],\n",
       "                [-2.05997463],\n",
       "                [ 3.11984749]])],\n",
       "        [array([], shape=(1, 0), dtype=float64)]], dtype=object),\n",
       " 'LW_ch1': array([[array([], shape=(1, 0), dtype=float64),\n",
       "         array([], shape=(1, 0), dtype=float64)],\n",
       "        [array([[-0.11914881, -0.60051313,  0.18175241]]),\n",
       "         array([], shape=(1, 0), dtype=float64)]], dtype=object),\n",
       " 'b_ch1': array([[array([[ 7.17194159],\n",
       "                [-0.83646133],\n",
       "                [ 6.16938773]])],\n",
       "        [array([[-0.19572506]])]], dtype=object)}"
      ]
     },
     "execution_count": 30,
     "metadata": {},
     "output_type": "execute_result"
    }
   ],
   "source": [
    "net_ch1_simple  #"
   ]
  },
  {
   "cell_type": "markdown",
   "metadata": {
    "id": "X5pNHNp5pmSP"
   },
   "source": [
    "**Neural Network Structure (net_ch1)**\n",
    "\n",
    "\n",
    "The network has:\n",
    "\n",
    "  Input Weights (IW_ch1): These connect the input layer to the first hidden layer.\n",
    "\n",
    "  Layer Weights (LW_ch1): These connect the hidden layer(s) to the subsequent layers, including potentially an output layer.\n",
    "\n",
    "  Biases (b_ch1): These are additional parameters for each neuron that help shift the activation function, improving network flexibility and enabling better learning.\n",
    "  \n",
    "  Activation function (Hyperbolic Tangent 'tanh'): The purpose of an activation function in a neural network is to introduce nonlinearity into the model. This allows the network to capture complex patterns in the data that a purely linear model cannot."
   ]
  },
  {
   "cell_type": "code",
   "execution_count": 31,
   "metadata": {
    "colab": {
     "base_uri": "https://localhost:8080/",
     "height": 599
    },
    "id": "SSe9dEubCaIq",
    "outputId": "8c11123c-2a2d-42e9-d68b-45a53d1afbaf"
   },
   "outputs": [
    {
     "name": "stdout",
     "output_type": "stream",
     "text": [
      "Optimized x: [0.9795263  0.68714037]\n",
      "Function value: 5.064191275445868\n"
     ]
    },
    {
     "data": {
      "image/png": "[encoded data removed]",
      "text/plain": [
       "<Figure size 1000x600 with 1 Axes>"
      ]
     },
     "metadata": {},
     "output_type": "display_data"
    }
   ],
   "source": [
    "import numpy as np\n",
    "from scipy.optimize import differential_evolution\n",
    "import scipy.io\n",
    "import matplotlib.pyplot as plt\n",
    "\n",
    "# Load the simplified network data\n",
    "net_ch1_simple = scipy.io.loadmat(\"/content/net_ch1_simple.mat\")\n",
    "net_ch2_simple = scipy.io.loadmat(\"/content/net_ch2_simple.mat\")\n",
    "\n",
    "# Extract weights and biases for net_ch1 and net_ch2\n",
    "IW_ch1 = net_ch1_simple[\"IW_ch1\"][0, 0][0] if net_ch1_simple[\"IW_ch1\"].size else None\n",
    "LW_ch1 = net_ch1_simple[\"LW_ch1\"][1, 0] if net_ch1_simple[\"LW_ch1\"].size else None\n",
    "b_ch1 = net_ch1_simple[\"b_ch1\"][0, 0][0] if net_ch1_simple[\"b_ch1\"].size else None\n",
    "\n",
    "IW_ch2 = net_ch2_simple[\"IW_ch1\"][0, 0][0] if net_ch2_simple[\"IW_ch1\"].size else None\n",
    "LW_ch2 = net_ch2_simple[\"LW_ch1\"][1, 0] if net_ch2_simple[\"LW_ch1\"].size else None\n",
    "b_ch2 = net_ch2_simple[\"b_ch1\"][0, 0][0] if net_ch2_simple[\"b_ch1\"].size else None\n",
    "\n",
    "\n",
    "# Adjusted evaluate_network function to handle irregular data structure\n",
    "def evaluate_network(IW, LW, b, x):\n",
    "    if IW is None or b is None:\n",
    "        return 0  # Return zero if there's no valid data\n",
    "\n",
    "    # Calculate the input layer output\n",
    "    IW_values = IW.flatten()\n",
    "    b_values = b.flatten()\n",
    "    layer_input = IW_values * x + b_values\n",
    "    layer_output = np.tanh(\n",
    "        layer_input\n",
    "    )  # Activation function for the neurons in the hidden layer.\n",
    "\n",
    "    # Return mean if there are multiple outputs\n",
    "    return layer_output.mean() if layer_output.size > 1 else layer_output[0]\n",
    "\n",
    "\n",
    "# Cost function with penalty for the equality constraint\n",
    "def cost_function(x):\n",
    "    y1 = evaluate_network(IW_ch1, LW_ch1, b_ch1, x[0])\n",
    "    y2 = evaluate_network(IW_ch2, LW_ch2, b_ch2, x[1])\n",
    "    objective_value = 3 * x[0] / y1 + 3 * x[1] / y2\n",
    "    constraint_value = 3 * x[0] + 3 * x[1] - 5\n",
    "    penalty = 1e6 * abs(constraint_value) if constraint_value != 0 else 0\n",
    "    return objective_value + penalty\n",
    "\n",
    "\n",
    "# Set bounds for x[0] and x[1] independently within [0, 1]\n",
    "bounds = [(0, 1), (0, 1)]\n",
    "\n",
    "# Initialize list to store objective values over iterations for convergence tracking\n",
    "convergence_history = []\n",
    "\n",
    "\n",
    "# Define callback function to store the minimum objective value per iteration\n",
    "def callback(xk, convergence):\n",
    "    fval = cost_function(xk)\n",
    "    convergence_history.append(fval)\n",
    "\n",
    "\n",
    "# Run differential evolution optimization with the callback function\n",
    "result = differential_evolution(\n",
    "    cost_function,\n",
    "    bounds,\n",
    "    strategy=\"best1bin\",  # Similar to the default GA strategy\n",
    "    popsize=100,  # Matches MATLAB's 'PopulationSize' of 100 individuals\n",
    "    mutation=(0.5, 1),  # Default mutation range; adjust if needed\n",
    "    recombination=0.7,  # Matches MATLAB's 'CrossoverFrac' of 0.7\n",
    "    maxiter=20,  # Matches MATLAB's 'Generations' of 20\n",
    "    tol=1e-6,  # Convergence tolerance (not directly like StallGen)\n",
    "    seed=42,  # Ensures reproducibility\n",
    "    callback=callback,  # Attach the callback function\n",
    ")\n",
    "\n",
    "# Display results\n",
    "x_optimized = result.x\n",
    "fval = result.fun\n",
    "print(\"Optimized x:\", x_optimized)\n",
    "print(\"Function value:\", fval)\n",
    "\n",
    "# Plot convergence history\n",
    "if convergence_history:  # Check if there's data to plot\n",
    "    plt.figure(figsize=(10, 6))\n",
    "    plt.plot(convergence_history, marker=\"o\", linestyle=\"-\", color=\"b\")\n",
    "    plt.xlabel(\"Iteration\")\n",
    "    plt.ylabel(\"Objective Function Value\")\n",
    "    plt.title(\"Convergence of Differential Evolution Optimization\")\n",
    "    plt.grid(True)\n",
    "    plt.show()\n",
    "else:\n",
    "    print(\"No convergence data recorded.\")\n"
   ]
  },
  {
   "cell_type": "code",
   "execution_count": 7,
   "metadata": {
    "colab": {
     "base_uri": "https://localhost:8080/",
     "height": 879
    },
    "id": "3yLcluVzHS6P",
    "outputId": "2e098339-bd3a-42f6-b554-561c3547a028"
   },
   "outputs": [
    {
     "name": "stdout",
     "output_type": "stream",
     "text": [
      "Differential Evolution Results:\n",
      "Optimized x: [0.9795263  0.68714037]\n",
      "Function value: 5.064191275445868\n",
      "Execution time: 2.4128260612487793 seconds\n",
      "Iterations until convergence: 20 \n",
      "\n",
      "`xtol` termination condition is satisfied.\n",
      "Number of iterations: 55, function evaluations: 51, CG iterations: 16, optimality: 8.22e-10, constraint violation: 0.00e+00, execution time: 0.35 s.\n",
      "Trust-Constr Results:\n",
      "Optimized x: [1.         0.66666667]\n",
      "Function value: 5.040849908619018\n",
      "Execution time: 0.3764505386352539 seconds\n",
      "Iterations until convergence: 55 \n",
      "\n",
      "Summary Comparison:\n",
      "Differential Evolution - Time: 2.4128260612487793 seconds, Iterations: 20\n",
      "Trust-Constr - Time: 0.3764505386352539 seconds, Iterations: 55\n"
     ]
    },
    {
     "data": {
      "image/png": "[encoded data removed]",
      "text/plain": [
       "<Figure size 1200x600 with 1 Axes>"
      ]
     },
     "metadata": {},
     "output_type": "display_data"
    }
   ],
   "source": [
    "import numpy as np\n",
    "from scipy.optimize import differential_evolution, minimize, Bounds\n",
    "import scipy.io\n",
    "import time\n",
    "import matplotlib.pyplot as plt\n",
    "\n",
    "# Load the simplified network data\n",
    "net_ch1_simple = scipy.io.loadmat(\"/content/net_ch1_simple.mat\")\n",
    "net_ch2_simple = scipy.io.loadmat(\"/content/net_ch2_simple.mat\")\n",
    "\n",
    "# Extract weights and biases for net_ch1 and net_ch2\n",
    "IW_ch1 = net_ch1_simple[\"IW_ch1\"][0, 0][0] if net_ch1_simple[\"IW_ch1\"].size else None\n",
    "LW_ch1 = net_ch1_simple[\"LW_ch1\"][1, 0] if net_ch1_simple[\"LW_ch1\"].size else None\n",
    "b_ch1 = net_ch1_simple[\"b_ch1\"][0, 0][0] if net_ch1_simple[\"b_ch1\"].size else None\n",
    "\n",
    "IW_ch2 = net_ch2_simple[\"IW_ch1\"][0, 0][0] if net_ch2_simple[\"IW_ch1\"].size else None\n",
    "LW_ch2 = net_ch2_simple[\"LW_ch1\"][1, 0] if net_ch2_simple[\"LW_ch1\"].size else None\n",
    "b_ch2 = net_ch2_simple[\"b_ch1\"][0, 0][0] if net_ch2_simple[\"b_ch1\"].size else None\n",
    "\n",
    "\n",
    "# Adjusted evaluate_network function to handle irregular data structure\n",
    "def evaluate_network(IW, LW, b, x):\n",
    "    if IW is None or b is None:\n",
    "        return 0\n",
    "    IW_values = IW.flatten()\n",
    "    b_values = b.flatten()\n",
    "    layer_input = IW_values * x + b_values\n",
    "    layer_output = np.tanh(layer_input)\n",
    "    return layer_output.mean() if layer_output.size > 1 else layer_output[0]\n",
    "\n",
    "\n",
    "# Cost function with penalty for the equality constraint\n",
    "def cost_function(x):\n",
    "    y1 = evaluate_network(IW_ch1, LW_ch1, b_ch1, x[0])\n",
    "    y2 = evaluate_network(IW_ch2, LW_ch2, b_ch2, x[1])\n",
    "    objective_value = 3 * x[0] / y1 + 3 * x[1] / y2\n",
    "    constraint_value = 3 * x[0] + 3 * x[1] - 5\n",
    "    penalty = 1e6 * abs(constraint_value) if constraint_value != 0 else 0\n",
    "    return objective_value + penalty\n",
    "\n",
    "\n",
    "# Set bounds for x[0] and x[1] independently within [0, 1]\n",
    "bounds = [(0, 1), (0, 1)]\n",
    "\n",
    "# Tracking iterations and results for Differential Evolution\n",
    "de_iterations = []\n",
    "de_convergence_history = []\n",
    "\n",
    "\n",
    "def de_callback(xk, convergence):\n",
    "    fval = cost_function(xk)\n",
    "    de_iterations.append(len(de_iterations) + 1)\n",
    "    de_convergence_history.append(fval)\n",
    "\n",
    "\n",
    "# Run differential evolution\n",
    "start_time = time.time()\n",
    "result_de = differential_evolution(\n",
    "    cost_function,\n",
    "    bounds,\n",
    "    strategy=\"best1bin\",  # Similar to the default GA strategy\n",
    "    popsize=100,  # Matches MATLAB's 'PopulationSize' of 100 individuals\n",
    "    mutation=(0.5, 1),  # Default mutation range; adjust if needed\n",
    "    recombination=0.7,  # Matches MATLAB's 'CrossoverFrac' of 0.7\n",
    "    maxiter=20,  # Matches MATLAB's 'Generations' of 20\n",
    "    tol=1e-6,  # Convergence tolerance (not directly like StallGen)\n",
    "    seed=42,  # Ensures reproducibility\n",
    "    callback=de_callback,\n",
    ")\n",
    "\n",
    "de_time = time.time() - start_time\n",
    "\n",
    "print(\"Differential Evolution Results:\")\n",
    "print(\"Optimized x:\", result_de.x)\n",
    "print(\"Function value:\", result_de.fun)\n",
    "print(\"Execution time:\", de_time, \"seconds\")\n",
    "print(\"Iterations until convergence:\", len(de_iterations), \"\\n\")\n",
    "\n",
    "# Tracking convergence for trust-constr optimization\n",
    "trust_iterations = []\n",
    "trust_convergence_history = []\n",
    "\n",
    "\n",
    "def trust_callback(xk, res):\n",
    "    fval = cost_function(xk)\n",
    "    trust_iterations.append(len(trust_iterations) + 1)\n",
    "    trust_convergence_history.append(fval)\n",
    "\n",
    "\n",
    "# Run trust-constr with callback to track iterations\n",
    "start_time = time.time()\n",
    "equality_constraint = {\"type\": \"eq\", \"fun\": lambda x: 3 * x[0] + 3 * x[1] - 5}\n",
    "trust_bounds = Bounds([0, 0], [1, 1])\n",
    "result_trust = minimize(\n",
    "    cost_function,\n",
    "    x0=[0.5, 0.5],\n",
    "    method=\"trust-constr\",\n",
    "    constraints=[equality_constraint],\n",
    "    bounds=trust_bounds,\n",
    "    callback=trust_callback,  # Attach the callback function\n",
    "    options={\"disp\": True, \"gtol\": 1e-16, \"xtol\": 1e-16},\n",
    ")\n",
    "trust_time = time.time() - start_time\n",
    "\n",
    "print(\"Trust-Constr Results:\")\n",
    "print(\"Optimized x:\", result_trust.x)\n",
    "print(\"Function value:\", result_trust.fun)\n",
    "print(\"Execution time:\", trust_time, \"seconds\")\n",
    "print(\"Iterations until convergence:\", result_trust.nit, \"\\n\")\n",
    "\n",
    "# Summary comparison\n",
    "print(\"Summary Comparison:\")\n",
    "print(\n",
    "    f\"Differential Evolution - Time: {de_time} seconds, Iterations: {len(de_iterations)}\"\n",
    ")\n",
    "print(f\"Trust-Constr - Time: {trust_time} seconds, Iterations: {result_trust.nit}\")\n",
    "\n",
    "# Plot convergence comparison\n",
    "plt.figure(figsize=(12, 6))\n",
    "plt.plot(\n",
    "    de_iterations, de_convergence_history, label=\"Differential Evolution\", marker=\"o\"\n",
    ")\n",
    "plt.plot(trust_iterations, trust_convergence_history, label=\"Trust-Constr\", marker=\"x\")\n",
    "plt.xlabel(\"Iteration\")\n",
    "plt.ylabel(\"Objective Function Value\")\n",
    "plt.title(\"Convergence Comparison of Differential Evolution and Trust-Constr\")\n",
    "plt.legend()\n",
    "plt.grid(True)\n",
    "plt.show()\n"
   ]
  },
  {
   "cell_type": "markdown",
   "metadata": {
    "id": "ngRkUBdV7OSX"
   },
   "source": [
    "# **Optimization #5: Central Heating Plant Optimization**\n",
    "\n",
    "This example models a heating plant where multiple boilers need to meet different heating demands. Each boiler's efficiency varies based on its load, and we need to find the load distribution that meets specific heating demands efficiently.\n",
    "\n",
    "Key Points:\n",
    "\n",
    "* Objective Function: The energy cost is calculated based on load ratios for each boiler. The function models declining efficiency as boilers move away from optimal load.\n",
    "* Constraints: Both upper and lower load limits are enforced, with an equality constraint for each target heating demand."
   ]
  },
  {
   "cell_type": "code",
   "execution_count": 8,
   "metadata": {
    "colab": {
     "base_uri": "https://localhost:8080/"
    },
    "id": "Rat6Do2FNFlQ",
    "outputId": "ebf3524c-9e08-4aba-ff66-4a4adf2b4e8e"
   },
   "outputs": [
    {
     "name": "stderr",
     "output_type": "stream",
     "text": [
      "/usr/local/lib/python3.10/dist-packages/scipy/optimize/_trustregion_constr/equality_constrained_sqp.py:203: UserWarning: Singular Jacobian matrix. Using SVD decomposition to perform the factorizations.\n",
      "  Z, LS, Y = projections(A, factorization_method)\n",
      "/usr/local/lib/python3.10/dist-packages/scipy/optimize/_differentiable_functions.py:231: UserWarning: delta_grad == 0.0. Check if the approximated function is linear. If the function is linear better results can be obtained by defining the Hessian as zero instead of using quasi-Newton approximations.\n",
      "  self.H.update(self.x - self.x_prev, self.g - self.g_prev)\n"
     ]
    },
    {
     "name": "stdout",
     "output_type": "stream",
     "text": [
      "Heating demand 0 MW: Optimized x = [-0. -0. -0.  0.], Constraint Value = 0.0000, Cost Function Value = 0.0000\n",
      "Heating demand 2 MW: Optimized x = [0.  0.1 0.2 0. ], Constraint Value = 1.9800, Cost Function Value = 3.3617\n",
      "Heating demand 4 MW: Optimized x = [0.2 0.2 0.2 0.1], Constraint Value = 4.2700, Cost Function Value = 6.4666\n",
      "Heating demand 6 MW: Optimized x = [0.3 0.3 0.3 0.2], Constraint Value = 6.5600, Cost Function Value = 8.4211\n",
      "Heating demand 8 MW: Optimized x = [0.4 0.4 0.4 0.2], Constraint Value = 8.5400, Cost Function Value = 10.4594\n",
      "Heating demand 10 MW: Optimized x = [0.5 0.5 0.5 0.1], Constraint Value = 10.2100, Cost Function Value = 12.4535\n",
      "Heating demand 12 MW: Optimized x = [0.7 0.5 0.5 0.2], Constraint Value = 11.8400, Cost Function Value = 14.1034\n",
      "Heating demand 14 MW: Optimized x = [1.  0.6 0.5 0.2], Constraint Value = 14.4800, Cost Function Value = 17.0968\n",
      "Heating demand 16 MW: Optimized x = [1.  0.6 0.7 0.2], Constraint Value = 15.8000, Cost Function Value = 18.6162\n",
      "Heating demand 18 MW: Optimized x = [1.  0.7 1.  0.2], Constraint Value = 18.4400, Cost Function Value = 21.6820\n",
      "Heating demand 20 MW: Optimized x = [1.  0.9 1.  0.2], Constraint Value = 19.7600, Cost Function Value = 23.2372\n"
     ]
    }
   ],
   "source": [
    "import numpy as np\n",
    "from scipy.optimize import minimize, Bounds\n",
    "\n",
    "\n",
    "# Define the original objective function without offsets or penalty terms\n",
    "def objective(x):\n",
    "    return (\n",
    "        (x[0] * 6.6) / (0.88 - 1.1 * np.exp(-10 * x[0]))\n",
    "        + (x[1] * 6.6) / (0.84 - 0.9 * np.exp(-8 * x[1]))\n",
    "        + (x[2] * 6.6) / (0.86 - 1.6 * np.exp(-12 * x[2]))\n",
    "        + (x[3] * 3.1) / (0.66 - 2.5 * np.exp(-22 * x[3]))\n",
    "    )\n",
    "\n",
    "\n",
    "# Using Bounds instead of inequality constraints\n",
    "bounds = Bounds([0, 0, 0, 0], [1, 1, 1, 1])\n",
    "\n",
    "# Initialize results storage\n",
    "sequence = []\n",
    "\n",
    "# Loop through heating demand (MW) levels and optimize part load ratios for each\n",
    "for i in range(0, 21, 2):\n",
    "    eq_constraints = {\n",
    "        \"type\": \"eq\",\n",
    "        \"fun\": lambda x: np.dot([6.6, 6.6, 6.6, 3.1], x) - i,\n",
    "    }\n",
    "\n",
    "    # Initial guess\n",
    "    x0 = [0, 0, 0, 0]\n",
    "\n",
    "    # Define additional options\n",
    "    options = {\n",
    "        \"disp\": False,  # Display iteration information\n",
    "        \"gtol\": 1e-16,  # OptimalityTolerance\n",
    "        \"xtol\": 1e-16,  # StepTolerance\n",
    "        \"finite_diff_rel_step\": 1e-8,  # FiniteDifferenceStepSize\n",
    "        \"maxiter\": 3000,  # MaxIterations\n",
    "    }\n",
    "\n",
    "    # Perform the optimization using `trust-constr` with the specified options\n",
    "    result = minimize(\n",
    "        objective,\n",
    "        x0,\n",
    "        method=\"trust-constr\",\n",
    "        bounds=bounds,\n",
    "        constraints=[eq_constraints],\n",
    "        options=options,\n",
    "    )\n",
    "\n",
    "    # Get the optimized values and round them\n",
    "    x_optimized = np.round(result.x, 1)\n",
    "\n",
    "    # Calculate the constraint value to verify it meets the requirement\n",
    "    constraint_value = np.dot([6.6, 6.6, 6.6, 3.1], x_optimized)\n",
    "\n",
    "    # Calculate the cost function (objective) value for the optimized x\n",
    "    cost_value = objective(x_optimized)\n",
    "\n",
    "    # Print details for each heating demand level\n",
    "    print(\n",
    "        f\"Heating demand {i} MW: Optimized x = {x_optimized}, \"\n",
    "        f\"Constraint Value = {constraint_value:.4f}, Cost Function Value = {cost_value:.4f}\"\n",
    "    )\n",
    "\n",
    "    # Store the heating demand, optimized x values, constraint value, and cost value\n",
    "    sequence.append([i] + x_optimized.tolist() + [constraint_value, cost_value])\n",
    "\n",
    "# Convert sequence to a numpy array for easier manipulation and plotting\n",
    "sequence = np.array(sequence)\n"
   ]
  },
  {
   "cell_type": "code",
   "execution_count": 9,
   "metadata": {
    "colab": {
     "base_uri": "https://localhost:8080/",
     "height": 535
    },
    "id": "F_zLDLWv7nO1",
    "outputId": "a77e8295-ab10-44d2-b94c-0c90e90a2b55"
   },
   "outputs": [
    {
     "data": {
      "image/png": "[encoded data removed]",
      "text/plain": [
       "<Figure size 1400x600 with 1 Axes>"
      ]
     },
     "metadata": {},
     "output_type": "display_data"
    }
   ],
   "source": [
    "import matplotlib.pyplot as plt\n",
    "\n",
    "# Plot the results using grouped bars for each boiler\n",
    "bar_width = 0.3\n",
    "heating_demand = sequence[:, 0]\n",
    "boiler_data = sequence[:, 1:5]\n",
    "\n",
    "# Create bars for each boiler\n",
    "plt.figure(figsize=(14, 6))\n",
    "for idx in range(boiler_data.shape[1]):\n",
    "    plt.bar(\n",
    "        heating_demand + idx * bar_width,\n",
    "        boiler_data[:, idx],\n",
    "        width=bar_width,\n",
    "        label=f\"Boiler {idx + 1}\",\n",
    "        edgecolor=\"k\",\n",
    "    )\n",
    "\n",
    "# Add labels and title\n",
    "plt.ylabel(\"Part load ratio\")\n",
    "plt.xlabel(\"Heating demand (MW)\")\n",
    "plt.legend(loc=\"upper left\")\n",
    "plt.title(\"Optimized Part Load Ratios for Varying Heating Demand\")\n",
    "plt.xticks(heating_demand + bar_width, heating_demand)  # Center ticks\n",
    "\n",
    "plt.show()"
   ]
  },
  {
   "cell_type": "code",
   "execution_count": null,
   "metadata": {
    "id": "2jZLab048zyA"
   },
   "outputs": [],
   "source": []
  }
 ],
 "metadata": {
  "colab": {
   "provenance": []
  },
  "kernelspec": {
   "display_name": "base",
   "language": "python",
   "name": "python3"
  },
  "language_info": {
   "codemirror_mode": {
    "name": "ipython",
    "version": 3
   },
   "file_extension": ".py",
   "mimetype": "text/x-python",
   "name": "python",
   "nbconvert_exporter": "python",
   "pygments_lexer": "ipython3",
   "version": "3.12.4"
  }
 },
 "nbformat": 4,
 "nbformat_minor": 0
}
